{
 "cells": [
  {
   "cell_type": "markdown",
   "metadata": {},
   "source": [
    "## Extracting Yahoo News headlines in specific language"
   ]
  },
  {
   "cell_type": "code",
   "execution_count": 1,
   "metadata": {
    "collapsed": false,
    "scrolled": true
   },
   "outputs": [
    {
     "name": "stdout",
     "output_type": "stream",
     "text": [
      "Fetching headlines from https://vn.yahoo.com/ in vi at 2016-08-02 13:53:07.662357 \n",
      "\n",
      " Hari Won học Lâm Tâm Như: Che bụng bầu bằng váy body?\n",
      "Đang hú hí, sốc tột độ khi nghe tiếng vợ “quỷ” bên phòng\n",
      "Xem ngày sinh để biết tài lộc trọn đời\n",
      "Uống nước này mỗi tối, mỡ bụng chắc chắn bay biến\n",
      "Sự thật ít biết về chồng Tây tỷ phú của ca sĩ Thu Minh\n",
      "Vòng ba của gái xinh “làm hư” hàng loạt trai trẻ\n",
      "Người vợ bóp 'của quý' khiến chồng tử vong bị tạm giam\n",
      "Chuyện đời của nam diễn viên đóng đinh với vai ác\n",
      "Ghen tỵ 3 con giáp tiền tiêu xả láng trong tháng 8\n",
      "Trấn Thành “kết hôn”, cô dâu không phải là Hari Won?\n",
      "Top con giáp nổi tiếng đào hoa, đa tình chị em nên cẩn thận\n",
      "6 kiêng kỵ tuyệt đối không nên làm trong tháng cô hồn\n",
      "Clip chàng trai may mắn nhất nước Anh khi mua trứng\n",
      "Cấm tuyệt đối đăng 8 hình ảnh này của con lên mạng xã hội\n",
      "Phật nói 3 thứ độc nhất trên thế gian cần tránh xa\n",
      "Hồ Ngọc Hà và đại gia kim cương yêu nhau là thật?\n",
      "Ngất ngây vẻ đẹp vừa huyền bí vừa quyền quý của Lâm Tâm Như\n",
      "TPHCM: Bắt được kỳ đà to như… cá sấu\n",
      "Lộ khuôn mặt nạn nhân chết bí ẩn cách đây gần 4000 năm\n",
      "Đằng sau thói quen quên tắt ti vi của chồng là một bí mật khủng khiếp\n"
     ]
    }
   ],
   "source": [
    "from urllib.request import urlopen\n",
    "from bs4 import BeautifulSoup\n",
    "from langdetect import detect\n",
    "from datetime import datetime\n",
    "url = 'https://vn.yahoo.com/'; lang = 'vi' # Set the language code, otherwise, ads targeted to location will come in\n",
    "soup = BeautifulSoup(urlopen(url),\"html.parser\")\n",
    "headlineList = soup.findAll('a', {\"class\" : \"js-stream-content-link Mend-4\"})\n",
    "headlineText = [headline.getText() for headline in headlineList] # Extract the text from HTML \n",
    "langText = [text for text in headlineText if detect(text)==lang] # Select only the text in Vietnamese language\n",
    "print(\"Fetching headlines from\",url,'in',lang,'at',datetime.now(),'\\n\\n','\\n'.join(langText))"
   ]
  },
  {
   "cell_type": "code",
   "execution_count": null,
   "metadata": {
    "collapsed": true
   },
   "outputs": [],
   "source": []
  }
 ],
 "metadata": {
  "kernelspec": {
   "display_name": "Python 3",
   "language": "python",
   "name": "python3"
  },
  "language_info": {
   "codemirror_mode": {
    "name": "ipython",
    "version": 3
   },
   "file_extension": ".py",
   "mimetype": "text/x-python",
   "name": "python",
   "nbconvert_exporter": "python",
   "pygments_lexer": "ipython3",
   "version": "3.5.1"
  }
 },
 "nbformat": 4,
 "nbformat_minor": 0
}
