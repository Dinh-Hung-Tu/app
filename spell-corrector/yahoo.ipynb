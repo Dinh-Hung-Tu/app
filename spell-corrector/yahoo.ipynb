{
 "cells": [
  {
   "cell_type": "markdown",
   "metadata": {},
   "source": [
    "## Extracting Yahoo news headlines in specific language"
   ]
  },
  {
   "cell_type": "code",
   "execution_count": null,
   "metadata": {
    "collapsed": false,
    "scrolled": true
   },
   "outputs": [],
   "source": [
    "from urllib.request import urlopen\n",
    "from bs4 import BeautifulSoup\n",
    "from langdetect import detect\n",
    "from datetime import datetime\n",
    "url = 'https://vn.yahoo.com/'; lang = 'vi' # Set the language code, otherwise, ads lwill come in\n",
    "soup = BeautifulSoup(urlopen(url),\"html.parser\")\n",
    "headlineList = soup.findAll('a', {\"class\" : \"js-stream-content-link Mend-4\"})\n",
    "headlineText = [headline.getText() for headline in headlineList] # Extract the text from HTML \n",
    "langText = [text for text in headlineText if detect(text)==lang] # Select only the text in Vietnamese language\n",
    "print(\"Fetching headlines from\",url,'in',lang,'at',datetime.now(),'\\n\\n','\\n'.join(langText))"
   ]
  },
  {
   "cell_type": "code",
   "execution_count": null,
   "metadata": {
    "collapsed": true
   },
   "outputs": [],
   "source": []
  }
 ],
 "metadata": {
  "kernelspec": {
   "display_name": "Python 3",
   "language": "python",
   "name": "python3"
  },
  "language_info": {
   "codemirror_mode": {
    "name": "ipython",
    "version": 3
   },
   "file_extension": ".py",
   "mimetype": "text/x-python",
   "name": "python",
   "nbconvert_exporter": "python",
   "pygments_lexer": "ipython3",
   "version": "3.5.1"
  }
 },
 "nbformat": 4,
 "nbformat_minor": 0
}
