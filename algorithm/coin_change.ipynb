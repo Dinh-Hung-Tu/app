{
 "cells": [
  {
   "cell_type": "markdown",
   "metadata": {},
   "source": [
    "### 'Memoization' technique"
   ]
  },
  {
   "cell_type": "markdown",
   "metadata": {},
   "source": [
    "Following the tutorial: http://interactivepython.org/runestone/static/pythonds/Recursion/DynamicProgramming.html"
   ]
  },
  {
   "cell_type": "markdown",
   "metadata": {},
   "source": [
    "Let's walk through an example of units [1,2,5,10,20], the amount to change is 18. \n",
    "Let assume the function minCoins(input) returns the minimum number of coins needed. \n",
    "Decompose the possible change of amount into a sum of one unit and the rest i.e.:"
   ]
  },
  {
   "cell_type": "markdown",
   "metadata": {},
   "source": [
    "minCoins[18] = min(1+minCoins[18-1],\n",
    "                   2+minCoins[18-2],\n",
    "                   5+minCoins[18-5],\n",
    "                   10+minCoins[18-10])\n",
    "minCoins[18] = min(1+minCoins[17],\n",
    "                   2+minCoins[16],\n",
    "                   5+minCoins[13],\n",
    "                   10+minCoins[8])"
   ]
  },
  {
   "cell_type": "code",
   "execution_count": 43,
   "metadata": {
    "collapsed": false
   },
   "outputs": [],
   "source": [
    "# minCoins: array storing the min number of coins to get the change\n",
    "# coinValueList: array of currency\n",
    "def dpMakeChange(coinValueList,change,minCoins): # assuming cents = 6,\n",
    "    for cents in range(change+1): # Looping through all \n",
    "        coinCount = cents\n",
    "        for j in [c for c in coinValueList if c <= cents]: # j loops through the list of currency units smaller than coinCount\n",
    "            if minCoins[cents-j] + 1 < coinCount: #Comparing the minimum (4+1 vs 1)\n",
    "                coinCount = minCoins[cents-j]+1 # set the coinCount to the minimum of adding one note into \n",
    "        minCoins[cents] = coinCount\n",
    "        print(minCoins)    \n",
    "    return minCoins[change]"
   ]
  },
  {
   "cell_type": "code",
   "execution_count": 44,
   "metadata": {
    "collapsed": false
   },
   "outputs": [
    {
     "name": "stdout",
     "output_type": "stream",
     "text": [
      "[0, 0, 0, 0, 0, 0, 0, 0, 0, 0, 0, 0, 0, 0, 0, 0]\n",
      "[0, 1, 0, 0, 0, 0, 0, 0, 0, 0, 0, 0, 0, 0, 0, 0]\n",
      "[0, 1, 1, 0, 0, 0, 0, 0, 0, 0, 0, 0, 0, 0, 0, 0]\n",
      "[0, 1, 1, 2, 0, 0, 0, 0, 0, 0, 0, 0, 0, 0, 0, 0]\n",
      "[0, 1, 1, 2, 2, 0, 0, 0, 0, 0, 0, 0, 0, 0, 0, 0]\n",
      "[0, 1, 1, 2, 2, 1, 0, 0, 0, 0, 0, 0, 0, 0, 0, 0]\n",
      "[0, 1, 1, 2, 2, 1, 2, 0, 0, 0, 0, 0, 0, 0, 0, 0]\n",
      "[0, 1, 1, 2, 2, 1, 2, 2, 0, 0, 0, 0, 0, 0, 0, 0]\n",
      "[0, 1, 1, 2, 2, 1, 2, 2, 3, 0, 0, 0, 0, 0, 0, 0]\n",
      "[0, 1, 1, 2, 2, 1, 2, 2, 3, 3, 0, 0, 0, 0, 0, 0]\n",
      "[0, 1, 1, 2, 2, 1, 2, 2, 3, 3, 1, 0, 0, 0, 0, 0]\n",
      "[0, 1, 1, 2, 2, 1, 2, 2, 3, 3, 1, 2, 0, 0, 0, 0]\n",
      "[0, 1, 1, 2, 2, 1, 2, 2, 3, 3, 1, 2, 2, 0, 0, 0]\n",
      "[0, 1, 1, 2, 2, 1, 2, 2, 3, 3, 1, 2, 2, 3, 0, 0]\n",
      "[0, 1, 1, 2, 2, 1, 2, 2, 3, 3, 1, 2, 2, 3, 3, 0]\n",
      "[0, 1, 1, 2, 2, 1, 2, 2, 3, 3, 1, 2, 2, 3, 3, 2]\n"
     ]
    },
    {
     "data": {
      "text/plain": [
       "2"
      ]
     },
     "execution_count": 44,
     "metadata": {},
     "output_type": "execute_result"
    }
   ],
   "source": [
    "amt = 15\n",
    "minCoins = [0]*(amt+1)\n",
    "coinValueList = [10,5,2,1]\n",
    "dpMakeChange(coinValueList,amt,minCoins)"
   ]
  },
  {
   "cell_type": "markdown",
   "metadata": {},
   "source": [
    "### Improvement to include the details count of each units in the final change"
   ]
  },
  {
   "cell_type": "code",
   "execution_count": 5,
   "metadata": {
    "collapsed": false
   },
   "outputs": [],
   "source": [
    "def dpMakeChange(coinValueList,change,minCoins,coinsUsed):\n",
    "   for cents in range(change+1):\n",
    "      coinCount = cents\n",
    "      newCoin = 1\n",
    "      for j in [c for c in coinValueList if c <= cents]:\n",
    "            if minCoins[cents-j] + 1 < coinCount:\n",
    "               coinCount = minCoins[cents-j]+1\n",
    "               newCoin = j\n",
    "      minCoins[cents] = coinCount\n",
    "      coinsUsed[cents] = newCoin\n",
    "   return minCoins[change]\n",
    "\n",
    "def printCoins(coinsUsed,change):\n",
    "   coin = change\n",
    "   while coin > 0:\n",
    "      thisCoin = coinsUsed[coin]\n",
    "      print(thisCoin)\n",
    "      coin = coin - thisCoin"
   ]
  }
 ],
 "metadata": {
  "kernelspec": {
   "display_name": "Python 3",
   "language": "python",
   "name": "python3"
  },
  "language_info": {
   "codemirror_mode": {
    "name": "ipython",
    "version": 3
   },
   "file_extension": ".py",
   "mimetype": "text/x-python",
   "name": "python",
   "nbconvert_exporter": "python",
   "pygments_lexer": "ipython3",
   "version": "3.5.1"
  }
 },
 "nbformat": 4,
 "nbformat_minor": 0
}
